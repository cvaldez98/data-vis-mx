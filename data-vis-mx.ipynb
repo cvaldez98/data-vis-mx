{
 "cells": [
  {
   "cell_type": "code",
   "execution_count": 7,
   "metadata": {},
   "outputs": [
    {
     "name": "stdout",
     "output_type": "stream",
     "text": [
      "dirpath /mnt/c/Users/Microsft/Documents/data-vis-mx\n"
     ]
    }
   ],
   "source": [
    "import os\n",
    "import datosgobmx.client as api\n",
    "import numpy as np\n",
    "import pandas as pd\n",
    "dirpath = os.getcwd()\n",
    "print('dirpath', dirpath)"
   ]
  },
  {
   "cell_type": "code",
   "execution_count": 40,
   "metadata": {},
   "outputs": [
    {
     "name": "stdout",
     "output_type": "stream",
     "text": [
      "SHape! (13748, 21)\n",
      "RangeIndex(start=0, stop=13748, step=1)\n",
      "Index(['Año', 'Clave_Ent', 'Entidad', 'Bien jurídico afectado',\n",
      "       'Tipo de delito', 'Subtipo de delito', 'Modalidad', 'Sexo',\n",
      "       'Rango de edad', 'Enero', 'Febrero', 'Marzo', 'Abril', 'Mayo', 'Junio',\n",
      "       'Julio', 'Agosto', 'Septiembre', 'Octubre', 'Noviembre', 'Diciembre'],\n",
      "      dtype='object')\n",
      "estados {'Aguascalientes': 0.0, 'Baja California': 5.0, 'Baja California Sur': 0.0, 'Campeche': 0.0, 'Coahuila de Zaragoza': 0.0, 'Colima': 0.0, 'Chiapas': 4.0, 'Chihuahua': 0.0, 'Ciudad de México': 55.0, 'Durango': 8.0, 'Guanajuato': 0.0, 'Guerrero': 0.0, 'Hidalgo': 0.0, 'Jalisco': 0.0, 'México': 639.0, 'Michoacán de Ocampo': 6.0, 'Morelos': 2.0, 'Nayarit': 0.0, 'Nuevo León': 0.0, 'Oaxaca': 93.0, 'Puebla': 115.0, 'Querétaro': 55.0, 'Quintana Roo': 6.0, 'San Luis Potosí': 0.0, 'Sinaloa': 65.0, 'Sonora': 0.0, 'Tabasco': 7.0, 'Tamaulipas': nan, 'Tlaxcala': 0.0, 'Veracruz de Ignacio de la Llave': 4.0, 'Yucatán': 343.0, 'Zacatecas': 0.0}\n"
     ]
    }
   ],
   "source": [
    "data = pd.read_csv('delitos.csv', encoding=\"latin_1\")\n",
    "\n",
    "print(\"SHape!\", data.shape)\n",
    "# print(type(data))\n",
    "# print(data.head())\n",
    "# print(data.index('homicidios'))\n",
    "# count = 0\n",
    "# data.head()\n",
    "\n",
    "print(data.index)\n",
    "print(data.keys())\n",
    "def total_abs(data):\n",
    "    count = 0\n",
    "    d = {} # dictionary!\n",
    "    for index, series in data.iterrows():\n",
    "        d[series['Entidad']] = sumMonths(series)\n",
    "        \n",
    "#         print('index', series['Entidad'])\n",
    "        count += 1\n",
    "        \n",
    "#         print('state crimes:', )\n",
    "        \n",
    "#         if (count > 200):\n",
    "#             break\n",
    "    print('estados', d)\n",
    "# get the total of all 12 months, take in a 'series'\n",
    "def sumMonths(s):\n",
    "#     print('SERIESSSSS', s[])\n",
    "    result = 0\n",
    "    for i in range(9, 21):\n",
    "        result += s[i]\n",
    "    return result\n",
    "    \n",
    "            \n",
    "            \n",
    "total_abs(data)\n",
    "\n",
    "        \n"
   ]
  },
  {
   "cell_type": "code",
   "execution_count": null,
   "metadata": {},
   "outputs": [],
   "source": [
    "d = {} # dictionary!"
   ]
  }
 ],
 "metadata": {
  "kernelspec": {
   "display_name": "Python 3",
   "language": "python",
   "name": "python3"
  },
  "language_info": {
   "codemirror_mode": {
    "name": "ipython",
    "version": 3
   },
   "file_extension": ".py",
   "mimetype": "text/x-python",
   "name": "python",
   "nbconvert_exporter": "python",
   "pygments_lexer": "ipython3",
   "version": "3.6.7"
  }
 },
 "nbformat": 4,
 "nbformat_minor": 2
}
