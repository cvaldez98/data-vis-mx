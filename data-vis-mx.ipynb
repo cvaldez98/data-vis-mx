{
 "cells": [
  {
   "cell_type": "code",
   "execution_count": 2,
   "metadata": {},
   "outputs": [
    {
     "name": "stdout",
     "output_type": "stream",
     "text": [
      "dirpath /Users/carlosvaldez/Documents/data-vis-mx\n"
     ]
    }
   ],
   "source": [
    "import os\n",
    "import numpy as np\n",
    "import pandas as pd\n",
    "import folium\n",
    "import json\n",
    "dirpath = os.getcwd()\n",
    "print('dirpath', dirpath)"
   ]
  },
  {
   "cell_type": "code",
   "execution_count": 54,
   "metadata": {},
   "outputs": [],
   "source": [
    "JANUARY = 9\n",
    "DECEMBER = 21\n",
    "# Create Query search class\n",
    "class QuerySearch():\n",
    "    def __init__(self, year=None, startMonthIdx=JANUARY, endMonthIdx=DECEMBER):\n",
    "        self.data = data\n",
    "        self.startMonthIdx = startMonthIdx\n",
    "        self.endMonthIdx = endMonthIdx\n",
    "        self.year = year # default to the whole thing if nothing is passed in\n",
    "        \n",
    "    def checkYear(self, series, year):\n",
    "        if(series['Año'] == year):\n",
    "            return sumDate(series)\n",
    "        else:\n",
    "            return 0\n",
    "\n",
    "    def checkTypeOfCrime(self, series, crime):\n",
    "        if(series['Tipo de delito'] == crime):\n",
    "            return sumDate(series)\n",
    "        else:\n",
    "            return 0\n",
    "    \n",
    "    def checkGender(self, series, crime, gender):\n",
    "        if(series['Tipo de delito'] == crime and series['Sexo'] == gender):\n",
    "            return sumDate(series)\n",
    "        else:\n",
    "            return 0\n",
    "    \n",
    "    def sumDate(self, s):\n",
    "        result = 0\n",
    "        if(self.year is not None and s['Año'] == self.year):\n",
    "            for i in range(self.startMonthIdx, self.endMonthIdx):\n",
    "                result += s[i]\n",
    "#         elif(s['Año'] != self.year):\n",
    "#             return result\n",
    "        else:\n",
    "            for i in range(self.startMonthIdx, self.endMonthIdx):\n",
    "                result += s[i]\n",
    "            return result\n",
    "        "
   ]
  },
  {
   "cell_type": "code",
   "execution_count": 55,
   "metadata": {},
   "outputs": [
    {
     "ename": "NameError",
     "evalue": "name 'sumDate' is not defined",
     "output_type": "error",
     "traceback": [
      "\u001b[0;31m---------------------------------------------------------------------------\u001b[0m",
      "\u001b[0;31mNameError\u001b[0m                                 Traceback (most recent call last)",
      "\u001b[0;32m<ipython-input-55-a348d74feaf8>\u001b[0m in \u001b[0;36m<module>\u001b[0;34m\u001b[0m\n\u001b[1;32m     26\u001b[0m     \u001b[0;32mreturn\u001b[0m \u001b[0mstate_results\u001b[0m\u001b[0;34m\u001b[0m\u001b[0;34m\u001b[0m\u001b[0m\n\u001b[1;32m     27\u001b[0m \u001b[0;34m\u001b[0m\u001b[0m\n\u001b[0;32m---> 28\u001b[0;31m \u001b[0mtotal_abs\u001b[0m\u001b[0;34m(\u001b[0m\u001b[0mdata\u001b[0m\u001b[0;34m,\u001b[0m \u001b[0;34m\"Homicidio\"\u001b[0m\u001b[0;34m)\u001b[0m\u001b[0;34m\u001b[0m\u001b[0;34m\u001b[0m\u001b[0m\n\u001b[0m",
      "\u001b[0;32m<ipython-input-55-a348d74feaf8>\u001b[0m in \u001b[0;36mtotal_abs\u001b[0;34m(data, crimeType, year, startMonthIdx, endMonthIdx)\u001b[0m\n\u001b[1;32m     16\u001b[0m             d[series['Entidad']] = (series['Entidad'], \n\u001b[1;32m     17\u001b[0m                                     \u001b[0mquery\u001b[0m\u001b[0;34m.\u001b[0m\u001b[0msumDate\u001b[0m\u001b[0;34m(\u001b[0m\u001b[0mseries\u001b[0m\u001b[0;34m)\u001b[0m\u001b[0;34m,\u001b[0m\u001b[0;34m\u001b[0m\u001b[0;34m\u001b[0m\u001b[0m\n\u001b[0;32m---> 18\u001b[0;31m                                     \u001b[0mquery\u001b[0m\u001b[0;34m.\u001b[0m\u001b[0mcheckTypeOfCrime\u001b[0m\u001b[0;34m(\u001b[0m\u001b[0mseries\u001b[0m\u001b[0;34m,\u001b[0m \u001b[0mcrimeType\u001b[0m\u001b[0;34m)\u001b[0m\u001b[0;34m,\u001b[0m\u001b[0;34m\u001b[0m\u001b[0;34m\u001b[0m\u001b[0m\n\u001b[0m\u001b[1;32m     19\u001b[0m                                     \u001b[0mquery\u001b[0m\u001b[0;34m.\u001b[0m\u001b[0mcheckGender\u001b[0m\u001b[0;34m(\u001b[0m\u001b[0mseries\u001b[0m\u001b[0;34m,\u001b[0m \u001b[0mcrimeType\u001b[0m\u001b[0;34m,\u001b[0m \u001b[0;34m\"Hombre\"\u001b[0m\u001b[0;34m)\u001b[0m\u001b[0;34m,\u001b[0m\u001b[0;34m\u001b[0m\u001b[0;34m\u001b[0m\u001b[0m\n\u001b[1;32m     20\u001b[0m                                     \u001b[0mquery\u001b[0m\u001b[0;34m.\u001b[0m\u001b[0mcheckGender\u001b[0m\u001b[0;34m(\u001b[0m\u001b[0mseries\u001b[0m\u001b[0;34m,\u001b[0m \u001b[0mcrimeType\u001b[0m\u001b[0;34m,\u001b[0m \u001b[0;34m\"Mujer\"\u001b[0m\u001b[0;34m)\u001b[0m\u001b[0;34m,\u001b[0m\u001b[0;34m\u001b[0m\u001b[0;34m\u001b[0m\u001b[0m\n",
      "\u001b[0;32m<ipython-input-54-8da1fdbb5584>\u001b[0m in \u001b[0;36mcheckTypeOfCrime\u001b[0;34m(self, series, crime)\u001b[0m\n\u001b[1;32m     17\u001b[0m     \u001b[0;32mdef\u001b[0m \u001b[0mcheckTypeOfCrime\u001b[0m\u001b[0;34m(\u001b[0m\u001b[0mself\u001b[0m\u001b[0;34m,\u001b[0m \u001b[0mseries\u001b[0m\u001b[0;34m,\u001b[0m \u001b[0mcrime\u001b[0m\u001b[0;34m)\u001b[0m\u001b[0;34m:\u001b[0m\u001b[0;34m\u001b[0m\u001b[0;34m\u001b[0m\u001b[0m\n\u001b[1;32m     18\u001b[0m         \u001b[0;32mif\u001b[0m\u001b[0;34m(\u001b[0m\u001b[0mseries\u001b[0m\u001b[0;34m[\u001b[0m\u001b[0;34m'Tipo de delito'\u001b[0m\u001b[0;34m]\u001b[0m \u001b[0;34m==\u001b[0m \u001b[0mcrime\u001b[0m\u001b[0;34m)\u001b[0m\u001b[0;34m:\u001b[0m\u001b[0;34m\u001b[0m\u001b[0;34m\u001b[0m\u001b[0m\n\u001b[0;32m---> 19\u001b[0;31m             \u001b[0;32mreturn\u001b[0m \u001b[0msumDate\u001b[0m\u001b[0;34m(\u001b[0m\u001b[0mseries\u001b[0m\u001b[0;34m)\u001b[0m\u001b[0;34m\u001b[0m\u001b[0;34m\u001b[0m\u001b[0m\n\u001b[0m\u001b[1;32m     20\u001b[0m         \u001b[0;32melse\u001b[0m\u001b[0;34m:\u001b[0m\u001b[0;34m\u001b[0m\u001b[0;34m\u001b[0m\u001b[0m\n\u001b[1;32m     21\u001b[0m             \u001b[0;32mreturn\u001b[0m \u001b[0;36m0\u001b[0m\u001b[0;34m\u001b[0m\u001b[0;34m\u001b[0m\u001b[0m\n",
      "\u001b[0;31mNameError\u001b[0m: name 'sumDate' is not defined"
     ]
    }
   ],
   "source": [
    "data = pd.read_csv('delitos.csv', encoding=\"latin_1\")\n",
    "\n",
    "def total_abs(data, crimeType, year=None, startMonthIdx=JANUARY, endMonthIdx=DECEMBER):\n",
    "    query = QuerySearch(startMonthIdx=startMonthIdx, endMonthIdx=endMonthIdx)\n",
    "    d = {} # dictionary!\n",
    "    for index, series in data.iterrows():\n",
    "        if(series['Entidad'] in d):\n",
    "            curr = d[series['Entidad']] # the tuple curr[0] == total, curr[1] == homicidios totales\n",
    "            d[series['Entidad']] = (curr[0], \n",
    "                                    curr[1] + query.sumDate(series), \n",
    "                                    curr[2] + query.checkTypeOfCrime(series, crimeType),\n",
    "                                    curr[3] + query.checkGender(series, crimeType, \"Hombre\"),\n",
    "                                    curr[4] + query.checkGender(series, crimeType, \"Mujer\"),\n",
    "                                    curr[5] + query.checkGender(series, crimeType, \"No identificado\"))\n",
    "        else:\n",
    "            d[series['Entidad']] = (series['Entidad'], \n",
    "                                    query.sumDate(series), \n",
    "                                    query.checkTypeOfCrime(series, crimeType),\n",
    "                                    query.checkGender(series, crimeType, \"Hombre\"),\n",
    "                                    query.checkGender(series, crimeType, \"Mujer\"),\n",
    "                                    query.checkGender(series, crimeType, \"No identificado\"))        \n",
    "    state_results = pd.DataFrame.from_dict(d, orient='index', columns=['Estado', 'Total', 'Numero de ' + crimeType + 's', 'Hombre', 'Mujer', 'No identificado'])\n",
    "    l = [num for num in range(1, 33)]\n",
    "    state_results.index = l\n",
    "    # return data frame.\n",
    "    return state_results\n",
    "\n",
    "total_abs(data, \"Homicidio\")\n"
   ]
  },
  {
   "cell_type": "code",
   "execution_count": null,
   "metadata": {},
   "outputs": [],
   "source": []
  },
  {
   "cell_type": "code",
   "execution_count": 7,
   "metadata": {},
   "outputs": [],
   "source": [
    "# Homicides over 2015 - 2019 mapped. \n",
    "centro_lat, centro_lon = 22.396092, -101.731430\n",
    "m = folium.Map(location=[centro_lat, centro_lon], zoom_start=5, tiles='cartodb positron')\n",
    "folium.Choropleth(\n",
    "    geo_data=open(\"statesGEOJSON.json\",encoding = \"utf-8-sig\").read(),\n",
    "    name='Mexico',\n",
    "    highlight=True,\n",
    "    data=state_results,\n",
    "    columns=['Estado', 'Homicidios'],\n",
    "    key_on='feature.properties.NOM_ENT',\n",
    "    fill_color='RdPu',\n",
    "    nan_fill_color='Gray',\n",
    "    fill_opacity=0.7,\n",
    "    line_opacity=0.2,\n",
    "    legend_name='Estados'\n",
    ").add_to(m)\n",
    "\n",
    "m.save('homicides.html')"
   ]
  },
  {
   "cell_type": "code",
   "execution_count": null,
   "metadata": {},
   "outputs": [],
   "source": [
    "# GIF of Homicides year by year.... \n"
   ]
  }
 ],
 "metadata": {
  "kernelspec": {
   "display_name": "Python 3",
   "language": "python",
   "name": "python3"
  },
  "language_info": {
   "codemirror_mode": {
    "name": "ipython",
    "version": 3
   },
   "file_extension": ".py",
   "mimetype": "text/x-python",
   "name": "python",
   "nbconvert_exporter": "python",
   "pygments_lexer": "ipython3",
   "version": "3.7.4"
  }
 },
 "nbformat": 4,
 "nbformat_minor": 2
}
